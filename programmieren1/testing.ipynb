{
 "cells": [
  {
   "cell_type": "code",
   "execution_count": 19,
   "metadata": {},
   "outputs": [
    {
     "name": "stdout",
     "output_type": "stream",
     "text": [
      "['test', 'best']\n"
     ]
    }
   ],
   "source": [
    "import string\n",
    "\n",
    "text = \"test best\"\n",
    "new_string = \"\"\n",
    "for letter in text:\n",
    "    if letter in string.ascii_letters:\n",
    "        new_string += letter\n",
    "    else:\n",
    "        new_string += \" \"\n",
    "\n",
    "print(new_string.split())"
   ]
  },
  {
   "cell_type": "code",
   "execution_count": 46,
   "metadata": {},
   "outputs": [
    {
     "ename": "IndexError",
     "evalue": "tuple index out of range",
     "output_type": "error",
     "traceback": [
      "\u001b[0;31m---------------------------------------------------------------------------\u001b[0m",
      "\u001b[0;31mAssertionError\u001b[0m                            Traceback (most recent call last)",
      "\u001b[1;32m/Users/niklas/uni/programmieren1/testing.ipynb Zelle 2\u001b[0m line \u001b[0;36m2\n\u001b[1;32m     <a href='vscode-notebook-cell:/Users/niklas/uni/programmieren1/testing.ipynb#W1sZmlsZQ%3D%3D?line=25'>26</a>\u001b[0m \u001b[39mtry\u001b[39;00m:\n\u001b[0;32m---> <a href='vscode-notebook-cell:/Users/niklas/uni/programmieren1/testing.ipynb#W1sZmlsZQ%3D%3D?line=26'>27</a>\u001b[0m     \u001b[39massert\u001b[39;00m prime_factors(\u001b[39m7775460\u001b[39m) \u001b[39m==\u001b[39m \u001b[39m\"\u001b[39m\u001b[39m(2**2)(3**3)(5)(7)(11**2)(17)\u001b[39m\u001b[39m\"\u001b[39m\n\u001b[1;32m     <a href='vscode-notebook-cell:/Users/niklas/uni/programmieren1/testing.ipynb#W1sZmlsZQ%3D%3D?line=27'>28</a>\u001b[0m     \u001b[39massert\u001b[39;00m prime_factors(\u001b[39m7919\u001b[39m) \u001b[39m==\u001b[39m \u001b[39m\"\u001b[39m\u001b[39m(7919)\u001b[39m\u001b[39m\"\u001b[39m\n",
      "\u001b[0;31mAssertionError\u001b[0m: ",
      "\nDuring handling of the above exception, another exception occurred:\n",
      "\u001b[0;31mIndexError\u001b[0m                                Traceback (most recent call last)",
      "\u001b[1;32m/Users/niklas/uni/programmieren1/testing.ipynb Zelle 2\u001b[0m line \u001b[0;36m3\n\u001b[1;32m     <a href='vscode-notebook-cell:/Users/niklas/uni/programmieren1/testing.ipynb#W1sZmlsZQ%3D%3D?line=30'>31</a>\u001b[0m     \u001b[39mexcept\u001b[39;00m:\n\u001b[1;32m     <a href='vscode-notebook-cell:/Users/niklas/uni/programmieren1/testing.ipynb#W1sZmlsZQ%3D%3D?line=31'>32</a>\u001b[0m         \u001b[39mreturn\u001b[39;00m \u001b[39m\"\u001b[39m\u001b[39mSome Error occured on prime_factors(n)\u001b[39m\u001b[39m\"\u001b[39m\n\u001b[0;32m---> <a href='vscode-notebook-cell:/Users/niklas/uni/programmieren1/testing.ipynb#W1sZmlsZQ%3D%3D?line=34'>35</a>\u001b[0m test_prime_factors()\n",
      "\u001b[1;32m/Users/niklas/uni/programmieren1/testing.ipynb Zelle 2\u001b[0m line \u001b[0;36m3\n\u001b[1;32m     <a href='vscode-notebook-cell:/Users/niklas/uni/programmieren1/testing.ipynb#W1sZmlsZQ%3D%3D?line=27'>28</a>\u001b[0m     \u001b[39massert\u001b[39;00m prime_factors(\u001b[39m7919\u001b[39m) \u001b[39m==\u001b[39m \u001b[39m\"\u001b[39m\u001b[39m(7919)\u001b[39m\u001b[39m\"\u001b[39m\n\u001b[1;32m     <a href='vscode-notebook-cell:/Users/niklas/uni/programmieren1/testing.ipynb#W1sZmlsZQ%3D%3D?line=28'>29</a>\u001b[0m \u001b[39mexcept\u001b[39;00m \u001b[39mAssertionError\u001b[39;00m \u001b[39mas\u001b[39;00m e:\n\u001b[0;32m---> <a href='vscode-notebook-cell:/Users/niklas/uni/programmieren1/testing.ipynb#W1sZmlsZQ%3D%3D?line=29'>30</a>\u001b[0m     \u001b[39mreturn\u001b[39;00m \u001b[39mf\u001b[39m\u001b[39m\"\u001b[39m\u001b[39mTests failed: \u001b[39m\u001b[39m{\u001b[39;00me\u001b[39m.\u001b[39;49margs[\u001b[39m0\u001b[39;49m]\u001b[39m}\u001b[39;00m\u001b[39m\"\u001b[39m\n\u001b[1;32m     <a href='vscode-notebook-cell:/Users/niklas/uni/programmieren1/testing.ipynb#W1sZmlsZQ%3D%3D?line=30'>31</a>\u001b[0m \u001b[39mexcept\u001b[39;00m:\n\u001b[1;32m     <a href='vscode-notebook-cell:/Users/niklas/uni/programmieren1/testing.ipynb#W1sZmlsZQ%3D%3D?line=31'>32</a>\u001b[0m     \u001b[39mreturn\u001b[39;00m \u001b[39m\"\u001b[39m\u001b[39mSome Error occured on prime_factors(n)\u001b[39m\u001b[39m\"\u001b[39m\n",
      "\u001b[0;31mIndexError\u001b[0m: tuple index out of range"
     ]
    }
   ],
   "source": [
    "import math\n",
    "\n",
    "\n",
    "def prime_factors(n):\n",
    "    factors = {}\n",
    "\n",
    "    while n != 1:\n",
    "        for i in range(2, n + 1):\n",
    "            if n % i == 0:\n",
    "                if i in factors.keys():\n",
    "                    factors[i] += 1\n",
    "                else:\n",
    "                    factors[i] = 1\n",
    "\n",
    "                n //= i\n",
    "                break\n",
    "\n",
    "    result_string = \"\"\n",
    "    for key, value in factors.items():\n",
    "        result_string += f\"({key})\" if value == 1 else f\"({key}**{value})\"\n",
    "\n",
    "    return result_string\n",
    "\n",
    "\n",
    "def test_prime_factors():\n",
    "    try:\n",
    "        assert prime_factors(7775460) == \"(2**2)(3**3)(5)(7)(11**2)(17)\"\n",
    "        assert prime_factors(7919) == \"(7919)\"\n",
    "    except AssertionError as e:\n",
    "        return f\"Tests failed: {e.args[0]}\"\n",
    "    except:\n",
    "        return \"Some Error occured on prime_factors(n)\"\n",
    "\n",
    "\n",
    "test_prime_factors()"
   ]
  },
  {
   "cell_type": "code",
   "execution_count": 30,
   "metadata": {},
   "outputs": [
    {
     "ename": "AssertionError",
     "evalue": "Value not one",
     "output_type": "error",
     "traceback": [
      "\u001b[0;31m---------------------------------------------------------------------------\u001b[0m",
      "\u001b[0;31mAssertionError\u001b[0m                            Traceback (most recent call last)",
      "\u001b[1;32m/Users/niklas/uni/programmieren1/testing.ipynb Zelle 3\u001b[0m line \u001b[0;36m3\n\u001b[1;32m      <a href='vscode-notebook-cell:/Users/niklas/uni/programmieren1/testing.ipynb#W2sZmlsZQ%3D%3D?line=0'>1</a>\u001b[0m value \u001b[39m=\u001b[39m \u001b[39m3\u001b[39m\n\u001b[0;32m----> <a href='vscode-notebook-cell:/Users/niklas/uni/programmieren1/testing.ipynb#W2sZmlsZQ%3D%3D?line=2'>3</a>\u001b[0m \u001b[39massert\u001b[39;00m value \u001b[39m==\u001b[39m \u001b[39m1\u001b[39m, \u001b[39m\"\u001b[39m\u001b[39mValue not one\u001b[39m\u001b[39m\"\u001b[39m\n\u001b[1;32m      <a href='vscode-notebook-cell:/Users/niklas/uni/programmieren1/testing.ipynb#W2sZmlsZQ%3D%3D?line=3'>4</a>\u001b[0m \u001b[39massert\u001b[39;00m value \u001b[39m==\u001b[39m \u001b[39m2\u001b[39m, \u001b[39m\"\u001b[39m\u001b[39mValue not two\u001b[39m\u001b[39m\"\u001b[39m\n\u001b[1;32m      <a href='vscode-notebook-cell:/Users/niklas/uni/programmieren1/testing.ipynb#W2sZmlsZQ%3D%3D?line=4'>5</a>\u001b[0m \u001b[39mprint\u001b[39m(\u001b[39m\"\u001b[39m\u001b[39mtest\u001b[39m\u001b[39m\"\u001b[39m)\n",
      "\u001b[0;31mAssertionError\u001b[0m: Value not one"
     ]
    }
   ],
   "source": [
    "value = 3\n",
    "\n",
    "assert value == 1, \"Value not one\"\n",
    "assert value == 2, \"Value not two\"\n",
    "print(\"test\")"
   ]
  }
 ],
 "metadata": {
  "kernelspec": {
   "display_name": "base",
   "language": "python",
   "name": "python3"
  },
  "language_info": {
   "codemirror_mode": {
    "name": "ipython",
    "version": 3
   },
   "file_extension": ".py",
   "mimetype": "text/x-python",
   "name": "python",
   "nbconvert_exporter": "python",
   "pygments_lexer": "ipython3",
   "version": "3.10.12"
  }
 },
 "nbformat": 4,
 "nbformat_minor": 2
}
