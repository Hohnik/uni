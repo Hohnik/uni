{
 "cells": [
  {
   "cell_type": "code",
   "execution_count": 55,
   "metadata": {},
   "outputs": [],
   "source": [
    "def make_tweet(text, time, lat, lon):\n",
    "    \"\"\"Return a tweet, represented as a python dictionary.\n",
    "\n",
    "    text      -- A string; the text of the tweet, all in lowercase\n",
    "    time      -- A datetime object; the time that the tweet was posted\n",
    "    latitude  -- A number; the latitude of the tweet's location\n",
    "    longitude -- A number; the longitude of the tweet's location\n",
    "\n",
    "    >>> t = make_tweet(\"just ate lunch\", datetime(2012, 9, 24, 13), 38, 74)\n",
    "    >>> tweet_words(t)\n",
    "    ['just', 'ate', 'lunch']\n",
    "    >>> tweet_time(t)\n",
    "    datetime.datetime(2012, 9, 24, 13, 0)\n",
    "    >>> p = tweet_location(t)\n",
    "    >>> latitude(p)\n",
    "    38\n",
    "    \"\"\"\n",
    "    return {\"text\": text, \"time\": time, \"latitude\": lat, \"longitude\": lon}"
   ]
  },
  {
   "cell_type": "code",
   "execution_count": 74,
   "metadata": {},
   "outputs": [],
   "source": [
    "from string import ascii_letters\n",
    "\n",
    "\n",
    "def extract_words(text):\n",
    "    \"\"\"Return the words in a tweet, not including punctuation.\n",
    "\n",
    "    >>> extract_words('anything else.....not my job')\n",
    "    ['anything', 'else', 'not', 'my', 'job']\n",
    "    >>> extract_words('i love my job. #winning')\n",
    "    ['i', 'love', 'my', 'job', 'winning']\n",
    "    >>> extract_words('make justin # 1 by tweeting #vma #justinbieber :)')\n",
    "    ['make', 'justin', 'by', 'tweeting', 'vma', 'justinbieber']\n",
    "    >>> extract_words(\"paperclips! they're so awesome, cool, & useful!\")\n",
    "    ['paperclips', 'they', 're', 'so', 'awesome', 'cool', 'useful']\n",
    "    \"\"\"\n",
    "    \"*** YOUR CODE HERE ***\"\n",
    "    # wordList = text.split()\n",
    "\n",
    "    # sanatized_word_list = []\n",
    "\n",
    "    # for word in wordList:\n",
    "    #     sanatized_word = \"\"\n",
    "\n",
    "    #     for char in word:\n",
    "    #         if char in ascii_letters:\n",
    "    #             sanatized_word += char\n",
    "\n",
    "    #     if sanatized_word:\n",
    "    #         sanatized_word_list.append(sanatized_word)\n",
    "\n",
    "    # return sanatized_word_list\n",
    "\n",
    "    # lst = []\n",
    "    # word = \"\"\n",
    "    # for letter in text:\n",
    "    #     if letter in ascii_letters:\n",
    "    #         word += letter\n",
    "    #     else:\n",
    "    #         if word:\n",
    "    #             lst.append(word)\n",
    "    #         word = \"\"\n",
    "\n",
    "    # return lst\n",
    "\n",
    "    sanatized_string = \"\"\n",
    "    for char in text:\n",
    "        sanatized_string += char if char in ascii_letters else \" \"\n",
    "    return sanatized_string.split()\n",
    "\n",
    "\n",
    "extract_words(\"Homework....story of my life. (@ Perry Place)\")\n",
    "assert extract_words(\"just ate lunch\") == [\"just\", \"ate\", \"lunch\"], \"extract_words 1\"\n",
    "assert extract_words(\"Homework....story of my life. (@ Perry Place)\") == [\n",
    "    \"Homework\",\n",
    "    \"story\",\n",
    "    \"of\",\n",
    "    \"my\",\n",
    "    \"life\",\n",
    "    \"Perry\",\n",
    "    \"Place\",\n",
    "], \"extract_words 2\""
   ]
  },
  {
   "cell_type": "code",
   "execution_count": 75,
   "metadata": {},
   "outputs": [
    {
     "ename": "TypeError",
     "evalue": "string indices must be integers",
     "output_type": "error",
     "traceback": [
      "\u001b[0;31m---------------------------------------------------------------------------\u001b[0m",
      "\u001b[0;31mTypeError\u001b[0m                                 Traceback (most recent call last)",
      "\u001b[1;32m/Users/niklas/uni/programmieren1/lab/_PrakticeLab.ipynb Zelle 3\u001b[0m line \u001b[0;36m6\n\u001b[1;32m      <a href='vscode-notebook-cell:/Users/niklas/uni/programmieren1/lab/_PrakticeLab.ipynb#W1sZmlsZQ%3D%3D?line=1'>2</a>\u001b[0m \u001b[39m    \u001b[39m\u001b[39m\"\"\"Return a list of the words in the text of a tweet.\"\"\"\u001b[39;00m\n\u001b[1;32m      <a href='vscode-notebook-cell:/Users/niklas/uni/programmieren1/lab/_PrakticeLab.ipynb#W1sZmlsZQ%3D%3D?line=2'>3</a>\u001b[0m     \u001b[39mreturn\u001b[39;00m extract_words(tweet[\u001b[39m\"\u001b[39m\u001b[39mtext\u001b[39m\u001b[39m\"\u001b[39m])\n\u001b[0;32m----> <a href='vscode-notebook-cell:/Users/niklas/uni/programmieren1/lab/_PrakticeLab.ipynb#W1sZmlsZQ%3D%3D?line=5'>6</a>\u001b[0m \u001b[39massert\u001b[39;00m tweet_words(\u001b[39m\"\u001b[39;49m\u001b[39mjust ate lunch\u001b[39;49m\u001b[39m\"\u001b[39;49m) \u001b[39m==\u001b[39m [\u001b[39m\"\u001b[39m\u001b[39mjust\u001b[39m\u001b[39m\"\u001b[39m, \u001b[39m\"\u001b[39m\u001b[39mate\u001b[39m\u001b[39m\"\u001b[39m, \u001b[39m\"\u001b[39m\u001b[39mlunch\u001b[39m\u001b[39m\"\u001b[39m], \u001b[39m\"\u001b[39m\u001b[39mtweet_words\u001b[39m\u001b[39m\"\u001b[39m\n\u001b[1;32m      <a href='vscode-notebook-cell:/Users/niklas/uni/programmieren1/lab/_PrakticeLab.ipynb#W1sZmlsZQ%3D%3D?line=6'>7</a>\u001b[0m \u001b[39massert\u001b[39;00m tweet_words(\u001b[39m\"\u001b[39m\u001b[39mHomework....story of my life. (@ Perry Place)\u001b[39m\u001b[39m\"\u001b[39m) \u001b[39m==\u001b[39m [\n\u001b[1;32m      <a href='vscode-notebook-cell:/Users/niklas/uni/programmieren1/lab/_PrakticeLab.ipynb#W1sZmlsZQ%3D%3D?line=7'>8</a>\u001b[0m     \u001b[39m\"\u001b[39m\u001b[39mHomework\u001b[39m\u001b[39m\"\u001b[39m,\n\u001b[1;32m      <a href='vscode-notebook-cell:/Users/niklas/uni/programmieren1/lab/_PrakticeLab.ipynb#W1sZmlsZQ%3D%3D?line=8'>9</a>\u001b[0m     \u001b[39m\"\u001b[39m\u001b[39mstory\u001b[39m\u001b[39m\"\u001b[39m,\n\u001b[0;32m   (...)\u001b[0m\n\u001b[1;32m     <a href='vscode-notebook-cell:/Users/niklas/uni/programmieren1/lab/_PrakticeLab.ipynb#W1sZmlsZQ%3D%3D?line=13'>14</a>\u001b[0m     \u001b[39m\"\u001b[39m\u001b[39mPlace\u001b[39m\u001b[39m\"\u001b[39m,\n\u001b[1;32m     <a href='vscode-notebook-cell:/Users/niklas/uni/programmieren1/lab/_PrakticeLab.ipynb#W1sZmlsZQ%3D%3D?line=14'>15</a>\u001b[0m ], \u001b[39m\"\u001b[39m\u001b[39mtweet_words\u001b[39m\u001b[39m\"\u001b[39m\n",
      "\u001b[1;32m/Users/niklas/uni/programmieren1/lab/_PrakticeLab.ipynb Zelle 3\u001b[0m line \u001b[0;36m3\n\u001b[1;32m      <a href='vscode-notebook-cell:/Users/niklas/uni/programmieren1/lab/_PrakticeLab.ipynb#W1sZmlsZQ%3D%3D?line=0'>1</a>\u001b[0m \u001b[39mdef\u001b[39;00m \u001b[39mtweet_words\u001b[39m(tweet):\n\u001b[1;32m      <a href='vscode-notebook-cell:/Users/niklas/uni/programmieren1/lab/_PrakticeLab.ipynb#W1sZmlsZQ%3D%3D?line=1'>2</a>\u001b[0m \u001b[39m    \u001b[39m\u001b[39m\"\"\"Return a list of the words in the text of a tweet.\"\"\"\u001b[39;00m\n\u001b[0;32m----> <a href='vscode-notebook-cell:/Users/niklas/uni/programmieren1/lab/_PrakticeLab.ipynb#W1sZmlsZQ%3D%3D?line=2'>3</a>\u001b[0m     \u001b[39mreturn\u001b[39;00m extract_words(tweet[\u001b[39m\"\u001b[39;49m\u001b[39mtext\u001b[39;49m\u001b[39m\"\u001b[39;49m])\n",
      "\u001b[0;31mTypeError\u001b[0m: string indices must be integers"
     ]
    }
   ],
   "source": [
    "def tweet_words(tweet):\n",
    "    \"\"\"Return a list of the words in the text of a tweet.\"\"\"\n",
    "    return extract_words(tweet[\"text\"])\n",
    "\n",
    "\n",
    "assert tweet_words(make_tweet(\"just ate lunch\", datetime(2012, 9, 24, 13), 38, 74)) == [\n",
    "    \"just\",\n",
    "    \"ate\",\n",
    "    \"lunch\",\n",
    "], \"tweet_words\"\n",
    "assert tweet_words(\"Homework....story of my life. (@ Perry Place)\") == [\n",
    "    \"Homework\",\n",
    "    \"story\",\n",
    "    \"of\",\n",
    "    \"my\",\n",
    "    \"life\",\n",
    "    \"Perry\",\n",
    "    \"Place\",\n",
    "], \"tweet_words\""
   ]
  },
  {
   "cell_type": "code",
   "execution_count": null,
   "metadata": {},
   "outputs": [],
   "source": [
    "def tweet_time(tweet):\n",
    "    \"\"\"Return the datetime that represents when the tweet was posted.\"\"\"\n",
    "    return tweet[\"time\"]"
   ]
  },
  {
   "cell_type": "code",
   "execution_count": null,
   "metadata": {},
   "outputs": [],
   "source": [
    "def tweet_location(tweet):\n",
    "    \"\"\"Return a position (see geo.py) that represents the tweet's location.\"\"\"\n",
    "    return tweet[\"latitude\"], tweet[\"longitude\"]"
   ]
  },
  {
   "cell_type": "code",
   "execution_count": null,
   "metadata": {},
   "outputs": [],
   "source": [
    "def tweet_string(tweet):\n",
    "    \"\"\"Return a string representing the tweet.\"\"\"\n",
    "    return '\"{0}\" @ {1}'.format(tweet[\"text\"], tweet_location(tweet))"
   ]
  },
  {
   "cell_type": "code",
   "execution_count": null,
   "metadata": {},
   "outputs": [],
   "source": [
    "def extract_words(text):\n",
    "    \"\"\"Return the words in a tweet, not including punctuation.\n",
    "\n",
    "    >>> extract_words('anything else.....not my job')\n",
    "    ['anything', 'else', 'not', 'my', 'job']\n",
    "    >>> extract_words('i love my job. #winning')\n",
    "    ['i', 'love', 'my', 'job', 'winning']\n",
    "    >>> extract_words('make justin # 1 by tweeting #vma #justinbieber :)')\n",
    "    ['make', 'justin', 'by', 'tweeting', 'vma', 'justinbieber']\n",
    "    >>> extract_words(\"paperclips! they're so awesome, cool, & useful!\")\n",
    "    ['paperclips', 'they', 're', 'so', 'awesome', 'cool', 'useful']\n",
    "    \"\"\"\n",
    "    \"*** YOUR CODE HERE ***\"\n",
    "    return text.split()  # Replace"
   ]
  },
  {
   "cell_type": "code",
   "execution_count": null,
   "metadata": {},
   "outputs": [],
   "source": [
    "def make_sentiment(value):\n",
    "    \"\"\"Return a sentiment, which represents a value that may not exist.\n",
    "\n",
    "    >>> s = make_sentiment(0.2)\n",
    "    >>> t = make_sentiment(None)\n",
    "    >>> has_sentiment(s)\n",
    "    True\n",
    "    >>> has_sentiment(t)\n",
    "    False\n",
    "    >>> sentiment_value(s)\n",
    "    0.2\n",
    "    \"\"\"\n",
    "    assert value is None or (value >= -1 and value <= 1), \"Illegal value\"\n",
    "    \"*** YOUR CODE HERE ***\""
   ]
  },
  {
   "cell_type": "code",
   "execution_count": null,
   "metadata": {},
   "outputs": [],
   "source": [
    "def make_position(lat, lon):\n",
    "    \"\"\"Return a geographic position, which has a latitude and longitude.\"\"\"\n",
    "    return (lat, lon)\n",
    "\n",
    "\n",
    "def latitude(position):\n",
    "    \"\"\"Return the latitudinal coordinate of a geographic position.\"\"\"\n",
    "    return position[0]\n",
    "\n",
    "\n",
    "def longitude(position):\n",
    "    \"\"\"Return the longitudinal coordinate of a geographic position.\"\"\"\n",
    "    return position[1]"
   ]
  },
  {
   "cell_type": "code",
   "execution_count": null,
   "metadata": {},
   "outputs": [],
   "source": [
    "from datetime import datetime\n",
    "\n",
    "t = make_tweet(\"just ate lunch\", datetime(2012, 9, 24, 13), 38, 74)\n",
    "\n",
    "assert tweet_time(t) == datetime(2012, 9, 24, 13, 0), \"tweet_time\"\n",
    "p = tweet_location(t)\n",
    "assert latitude(p) == 38, \"tweet_location\""
   ]
  },
  {
   "cell_type": "code",
   "execution_count": 1,
   "metadata": {},
   "outputs": [
    {
     "data": {
      "text/plain": [
       "'abcdefghijklmnopqrstuvwxyzABCDEFGHIJKLMNOPQRSTUVWXYZ'"
      ]
     },
     "execution_count": 1,
     "metadata": {},
     "output_type": "execute_result"
    }
   ],
   "source": [
    "from string import ascii_letters\n",
    "\n",
    "ascii_letters"
   ]
  },
  {
   "cell_type": "code",
   "execution_count": 18,
   "metadata": {},
   "outputs": [
    {
     "name": "stdout",
     "output_type": "stream",
     "text": [
      "The angle for the first point is 3.141592653589793 radians.\n",
      "The angle for the second point is 0.0 radians.\n"
     ]
    }
   ],
   "source": [
    "import math\n",
    "\n",
    "# First point\n",
    "x1 = -1\n",
    "y1 = 0\n",
    "\n",
    "# Second point\n",
    "x2 = 100\n",
    "y2 = 0\n",
    "\n",
    "angle1 = math.atan2(y1, x1)\n",
    "angle2 = math.atan2(y2, x2)\n",
    "\n",
    "print(f\"The angle for the first point is {angle1} radians.\")\n",
    "print(f\"The angle for the second point is {angle2} radians.\")"
   ]
  }
 ],
 "metadata": {
  "kernelspec": {
   "display_name": "base",
   "language": "python",
   "name": "python3"
  },
  "language_info": {
   "codemirror_mode": {
    "name": "ipython",
    "version": 3
   },
   "file_extension": ".py",
   "mimetype": "text/x-python",
   "name": "python",
   "nbconvert_exporter": "python",
   "pygments_lexer": "ipython3",
   "version": "3.10.12"
  }
 },
 "nbformat": 4,
 "nbformat_minor": 2
}
