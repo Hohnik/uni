{
 "cells": [
  {
   "cell_type": "code",
   "execution_count": 10,
   "metadata": {},
   "outputs": [
    {
     "data": {
      "text/plain": [
       "6.0"
      ]
     },
     "execution_count": 10,
     "metadata": {},
     "output_type": "execute_result"
    }
   ],
   "source": [
    "def find_centroid(polygon: list):\n",
    "    \"\"\"Find the centroid of a polygon.\n",
    "\n",
    "    http://en.wikipedia.org/wiki/Centroid#Centroid_of_polygon\n",
    "\n",
    "    polygon -- A list of positions, in which the first and last are the same\n",
    "\n",
    "    Returns: 3 numbers; centroid latitude, centroid longitude, and polygon area\n",
    "\n",
    "    Hint: If a polygon has 0 area, return its first position as its centroid\n",
    "\n",
    "\n",
    "    >>> p1, p2, p3 = make_position(1, 2), make_position(3, 4), make_position(5, 0)\n",
    "    >>> triangle = [p1, p2, p3, p1]  # First vertex is also the last vertex\n",
    "    >>> find_centroid(triangle)\n",
    "    (3.0, 2.0, 6.0)\n",
    "    >>> find_centroid([p1, p3, p2, p1])\n",
    "    (3.0, 2.0, 6.0)\n",
    "    >>> find_centroid([p1, p2, p1])\n",
    "    (1, 2, 0)\n",
    "\n",
    "    \"\"\"\n",
    "\n",
    "    area = 0\n",
    "\n",
    "    for p1, p2 in zip(polygon, polygon[1:]):\n",
    "        area += p1[0] * p2[1] - p2[0] * p1[1]\n",
    "\n",
    "    return abs(1 / 2 * area)\n",
    "\n",
    "\n",
    "p1, p2, p3 = (1, 2), (3, 4), (5, 0)\n",
    "triangle = [p1, p2, p3, p1]\n",
    "find_centroid(triangle)"
   ]
  },
  {
   "cell_type": "code",
   "execution_count": 5,
   "metadata": {},
   "outputs": [
    {
     "name": "stdout",
     "output_type": "stream",
     "text": [
      "1 2\n",
      "2 3\n"
     ]
    }
   ],
   "source": [
    "l1 = [1, 2, 3]\n",
    "l2 = [4, 5, 6]\n",
    "for p1, p2 in zip(l1, l1[1:]):\n",
    "    print(p1, p2)"
   ]
  }
 ],
 "metadata": {
  "kernelspec": {
   "display_name": "base",
   "language": "python",
   "name": "python3"
  },
  "language_info": {
   "codemirror_mode": {
    "name": "ipython",
    "version": 3
   },
   "file_extension": ".py",
   "mimetype": "text/x-python",
   "name": "python",
   "nbconvert_exporter": "python",
   "pygments_lexer": "ipython3",
   "version": "3.10.12"
  }
 },
 "nbformat": 4,
 "nbformat_minor": 2
}
