{
 "cells": [
  {
   "cell_type": "code",
   "execution_count": 2,
   "metadata": {},
   "outputs": [],
   "source": [
    "def h(node):\n",
    "    \"\"\"Default heuristic function h(n) = number of misplaced tiles\"\"\"\n",
    "    goal = (1, 2, 3, 4, 5, 6, 7, 8, 0)\n",
    "    mannhattan_distance = [\n",
    "        (0, 1, 2, 1, 2, 3, 2, 3, 4),  # 1\n",
    "        (1, 0, 1, 2, 1, 2, 3, 2, 3),  # 2\n",
    "        (2, 1, 0, 3, 2, 1, 4, 3, 2),  # 3\n",
    "        (1, 2, 3, 0, 1, 2, 1, 2, 3),  # 4\n",
    "        (2, 1, 2, 1, 0, 1, 2, 1, 2),  # 5\n",
    "        (3, 2, 1, 2, 1, 0, 3, 2, 1),  # 6\n",
    "        (2, 3, 4, 1, 2, 3, 0, 1, 2),  # 7\n",
    "        (3, 2, 3, 2, 1, 2, 1, 0, 1),  # 8\n",
    "        (4, 3, 2, 3, 2, 1, 2, 1, 0),  # 0\n",
    "    ]\n",
    "\n",
    "    base = [0, 1, 2, 1, 2, 3, 2, 3, 4]  # 1\n",
    "    mannhattan_distance_generated = []\n",
    "\n",
    "    for i in range(9):\n",
    "        updated_list = base[:-1].insert(0, base[-1])\n",
    "        mannhattan_distance_generated.append(updated_list)\n",
    "\n",
    "    h_cost = 0\n",
    "    state_cost = []\n",
    "\n",
    "    for position, digit in enumerate(node.state):\n",
    "        digit_cost = mannhattan_distance[digit][position]\n",
    "        state_cost.append(digit_cost)\n",
    "        h_cost += digit_cost\n",
    "\n",
    "    return h_cost"
   ]
  },
  {
   "cell_type": "code",
   "execution_count": 35,
   "metadata": {},
   "outputs": [
    {
     "name": "stdout",
     "output_type": "stream",
     "text": [
      "[(0, 1, 2, 1, 2, 3, 2, 3, 4), (1, 0, 1, 2, 1, 2, 3, 2, 3), (2, 1, 0, 3, 2, 1, 4, 3, 2), (1, 2, 3, 0, 1, 2, 1, 2, 3), (2, 1, 2, 1, 0, 1, 2, 1, 2), (3, 2, 1, 2, 1, 0, 3, 2, 1), (2, 3, 4, 1, 2, 3, 0, 1, 2), (3, 2, 3, 2, 1, 2, 1, 0, 1), (4, 3, 2, 3, 2, 1, 2, 1, 0)]\n",
      "[[1, 2, 1, 2, 3, 2, 3, 4, 0], [0, 1, 2, 1, 2, 3, 2, 3, 4], [4, 0, 1, 2, 1, 2, 3, 2, 3], [3, 4, 0, 1, 2, 1, 2, 3, 2], [2, 3, 4, 0, 1, 2, 1, 2, 3], [3, 2, 3, 4, 0, 1, 2, 1, 2], [2, 3, 2, 3, 4, 0, 1, 2, 1], [1, 2, 3, 2, 3, 4, 0, 1, 2], [2, 1, 2, 3, 2, 3, 4, 0, 1]]\n"
     ]
    }
   ],
   "source": [
    "md = [\n",
    "    (0, 1, 2, 1, 2, 3, 2, 3, 4),  # 1\n",
    "    (1, 0, 1, 2, 1, 2, 3, 2, 3),  # 2\n",
    "    (2, 1, 0, 3, 2, 1, 4, 3, 2),  # 3\n",
    "    (1, 2, 3, 0, 1, 2, 1, 2, 3),  # 4\n",
    "    (2, 1, 2, 1, 0, 1, 2, 1, 2),  # 5\n",
    "    (3, 2, 1, 2, 1, 0, 3, 2, 1),  # 6\n",
    "    (2, 3, 4, 1, 2, 3, 0, 1, 2),  # 7\n",
    "    (3, 2, 3, 2, 1, 2, 1, 0, 1),  # 8\n",
    "    (4, 3, 2, 3, 2, 1, 2, 1, 0),  # 0\n",
    "]\n",
    "\n",
    "mdg = [[0, 1, 2, 1, 2, 3, 2, 3, 4]]\n",
    "for i in range(8):\n",
    "    next_list = mdg[i][:-1]\n",
    "    next_list.insert(0, mdg[i][-1])\n",
    "    mdg.append(next_list)\n",
    "\n",
    "last_mdg_layer = mdg.pop()\n",
    "mdg.insert(0, last_mdg_layer)\n",
    "\n",
    "print(md)\n",
    "print(mdg)"
   ]
  },
  {
   "cell_type": "code",
   "execution_count": 40,
   "metadata": {},
   "outputs": [
    {
     "name": "stdout",
     "output_type": "stream",
     "text": [
      "[0, 1, 2, 1, 2, 3, 2, 3, 4]\n",
      "[0, 1, 2, 1, 2, 3, 2, 3, 1]\n",
      "[0, 3, 2, 1, 4, 3, 2, 2, 1]\n",
      "[0, 1, 2, 1, 2, 3, 1, 2, 3]\n",
      "[0, 1, 2, 1, 2, 2, 1, 2, 1]\n",
      "[0, 3, 2, 1, 3, 2, 1, 2, 1]\n",
      "[0, 1, 2, 2, 3, 4, 1, 2, 3]\n",
      "[0, 1, 3, 2, 3, 2, 1, 2, 1]\n",
      "[0, 4, 3, 2, 3, 2, 1, 2, 1]\n"
     ]
    }
   ],
   "source": [
    "md = [\n",
    "    [0, 1, 2, 1, 2, 3, 2, 3, 4],  # 1\n",
    "    [1, 0, 1, 2, 1, 2, 3, 2, 3],  # 2\n",
    "    [2, 1, 0, 3, 2, 1, 4, 3, 2],  # 3\n",
    "    [1, 2, 3, 0, 1, 2, 1, 2, 3],  # 4\n",
    "    [2, 1, 2, 1, 0, 1, 2, 1, 2],  # 5\n",
    "    [3, 2, 1, 2, 1, 0, 3, 2, 1],  # 6\n",
    "    [2, 3, 4, 1, 2, 3, 0, 1, 2],  # 7\n",
    "    [3, 2, 3, 2, 1, 2, 1, 0, 1],  # 8\n",
    "    [4, 3, 2, 3, 2, 1, 2, 1, 0],  # 0\n",
    "]\n",
    "for i, row in enumerate(md):\n",
    "    for _ in range(i):\n",
    "        row = row[1:] + [row[0]]\n",
    "    print(row)"
   ]
  },
  {
   "cell_type": "code",
   "execution_count": 1,
   "metadata": {},
   "outputs": [
    {
     "name": "stdout",
     "output_type": "stream",
     "text": [
      "__main__\n"
     ]
    }
   ],
   "source": [
    "print(__name__)"
   ]
  }
 ],
 "metadata": {
  "kernelspec": {
   "display_name": "base",
   "language": "python",
   "name": "python3"
  },
  "language_info": {
   "codemirror_mode": {
    "name": "ipython",
    "version": 3
   },
   "file_extension": ".py",
   "mimetype": "text/x-python",
   "name": "python",
   "nbconvert_exporter": "python",
   "pygments_lexer": "ipython3",
   "version": "3.10.12"
  }
 },
 "nbformat": 4,
 "nbformat_minor": 2
}
